{
 "cells": [
  {
   "cell_type": "code",
   "execution_count": null,
   "metadata": {},
   "outputs": [],
   "source": [
    "#Q - 1. What does an empty dictionary's code look like?\n",
    "#Answer:\n",
    "dict1 = {}\n",
    "\n",
    "another way of creating empty dictionary is using dict() constructor as\n",
    "dict2 = dict()"
   ]
  },
  {
   "cell_type": "code",
   "execution_count": 1,
   "metadata": {},
   "outputs": [
    {
     "name": "stdout",
     "output_type": "stream",
     "text": [
      "42\n"
     ]
    }
   ],
   "source": [
    "#Q - 2. What is the value of a dictionary value with the key 'foo' and the value 42?\n",
    "#Answer:\n",
    "dict_1 = {\"foo\":42}\n",
    "value = dict_1[\"foo\"]\n",
    "print(value)\n"
   ]
  },
  {
   "cell_type": "code",
   "execution_count": null,
   "metadata": {},
   "outputs": [],
   "source": [
    "#Q - 3. What is the most significant distinction between a dictionary and a list?\n",
    "#Answer:\n",
    "Below are few major difference between a dictionary and a list:\n",
    "- A list is an ordered collection of elements accessed by their numerical index, while a dictionary is an unordered collection of key-value pairs accessed by their unique keys. \n",
    "- Lists are suitable for maintaining ordered collections, while dictionaries are useful for mapping relationships and performing efficient lookups based on keys."
   ]
  },
  {
   "cell_type": "code",
   "execution_count": 3,
   "metadata": {},
   "outputs": [
    {
     "ename": "KeyError",
     "evalue": "'foo'",
     "output_type": "error",
     "traceback": [
      "\u001b[0;31m---------------------------------------------------------------------------\u001b[0m",
      "\u001b[0;31mKeyError\u001b[0m                                  Traceback (most recent call last)",
      "Cell \u001b[0;32mIn[3], line 4\u001b[0m\n\u001b[1;32m      1\u001b[0m \u001b[38;5;66;03m#Q - 4. What happens if you try to access spam['foo'] if spam is {'bar': 100}?\u001b[39;00m\n\u001b[1;32m      2\u001b[0m \u001b[38;5;66;03m#Answer:\u001b[39;00m\n\u001b[1;32m      3\u001b[0m spam \u001b[38;5;241m=\u001b[39m {\u001b[38;5;124m'\u001b[39m\u001b[38;5;124mbar\u001b[39m\u001b[38;5;124m'\u001b[39m:\u001b[38;5;241m100\u001b[39m}\n\u001b[0;32m----> 4\u001b[0m \u001b[38;5;28mprint\u001b[39m(\u001b[43mspam\u001b[49m\u001b[43m[\u001b[49m\u001b[38;5;124;43m'\u001b[39;49m\u001b[38;5;124;43mfoo\u001b[39;49m\u001b[38;5;124;43m'\u001b[39;49m\u001b[43m]\u001b[49m) \u001b[38;5;66;03m#since key 'foo' is not available, it will raise a key error\u001b[39;00m\n",
      "\u001b[0;31mKeyError\u001b[0m: 'foo'"
     ]
    }
   ],
   "source": [
    "#Q - 4. What happens if you try to access spam['foo'] if spam is {'bar': 100}?\n",
    "#Answer:\n",
    "spam = {'bar':100}\n",
    "print(spam['foo']) #since key 'foo' is not available, it will raise a key error"
   ]
  },
  {
   "cell_type": "code",
   "execution_count": null,
   "metadata": {},
   "outputs": [],
   "source": [
    "#Q - 5. If a dictionary is stored in spam, what is the difference between the expressions 'cat' in spam and 'cat' in spam.keys()?\n",
    "#Answer:\n",
    "Both expressions 'cat' in spam and 'cat' in spam.keys() checks if key 'cat' is available in dictionary spam or not.\n",
    "'cat' in spam checks if this key is availble in dictionary and returns a True if it's available and False otherwise\n",
    "'cat' in spam.keys() checks if this key is availble in the lists of dictionary. This returns True if this key is avaible in keys else return False\n",
    "\n",
    "In most cases checking keys using the expression 'cat' in spam is sufficient and more efficient. "
   ]
  },
  {
   "cell_type": "code",
   "execution_count": null,
   "metadata": {},
   "outputs": [],
   "source": [
    "#Q - 6. If a dictionary is stored in spam, what is the difference between the expressions 'cat' in spam and 'cat' in spam.values()?\n",
    "#Answer:\n",
    "- The expression 'cat' in spam checks if 'cat' is a value in dictionary\n",
    "- The expression 'cat' in spam.values() checks if 'cat' is there in collection of values of dictionary"
   ]
  },
  {
   "cell_type": "code",
   "execution_count": null,
   "metadata": {},
   "outputs": [],
   "source": [
    "#Q - 7. What is a shortcut for the following code?\n",
    "if 'color' not in spam:\n",
    "spam['color'] = 'black'\n",
    "\n",
    "#Answer:\n",
    "There is a function called dict.setdefault() returns the value of key given if it already exists, if not it will add a new key-value pair\n",
    "so shortcut for above code will be:\n",
    "\n",
    "spam.setdefault('color','black') "
   ]
  },
  {
   "cell_type": "code",
   "execution_count": 4,
   "metadata": {},
   "outputs": [
    {
     "name": "stdout",
     "output_type": "stream",
     "text": [
      "{'a': 4, 'b': 7, 'c': 3}\n"
     ]
    }
   ],
   "source": [
    "#Q - 8. How do you \"pretty print\" dictionary values using which module and function?\n",
    "#Answer:\n",
    "#To \"pretty print\" dict values we have to use pprint module and pprint() function in the same module\n",
    "import pprint\n",
    "dict_2 = {\"a\":4,\"b\":7,\"c\":3}\n",
    "pprint.pprint(dict_2)\n",
    "\n"
   ]
  },
  {
   "cell_type": "code",
   "execution_count": null,
   "metadata": {},
   "outputs": [],
   "source": []
  }
 ],
 "metadata": {
  "kernelspec": {
   "display_name": "Python 3.9.6 64-bit",
   "language": "python",
   "name": "python3"
  },
  "language_info": {
   "codemirror_mode": {
    "name": "ipython",
    "version": 3
   },
   "file_extension": ".py",
   "mimetype": "text/x-python",
   "name": "python",
   "nbconvert_exporter": "python",
   "pygments_lexer": "ipython3",
   "version": "3.9.6"
  },
  "orig_nbformat": 4,
  "vscode": {
   "interpreter": {
    "hash": "31f2aee4e71d21fbe5cf8b01ff0e069b9275f58929596ceb00d14d90e3e16cd6"
   }
  }
 },
 "nbformat": 4,
 "nbformat_minor": 2
}
